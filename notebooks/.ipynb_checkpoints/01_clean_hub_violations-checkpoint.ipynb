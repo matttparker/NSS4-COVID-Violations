{
 "cells": [
  {
   "cell_type": "code",
   "execution_count": 1,
   "metadata": {},
   "outputs": [],
   "source": [
    "import pandas as pd"
   ]
  },
  {
   "cell_type": "code",
   "execution_count": 2,
   "metadata": {},
   "outputs": [
    {
     "name": "stderr",
     "output_type": "stream",
     "text": [
      "/opt/anaconda3/lib/python3.8/site-packages/IPython/core/interactiveshell.py:3071: DtypeWarning: Columns (17) have mixed types.Specify dtype option on import or set low_memory=False.\n",
      "  has_raised = await self.run_ast_nodes(code_ast.body, cell_name,\n"
     ]
    }
   ],
   "source": [
    "hub_df = pd.read_csv('../data/hubNashville__311__Service_Requests.csv')"
   ]
  },
  {
   "cell_type": "code",
   "execution_count": 3,
   "metadata": {},
   "outputs": [],
   "source": [
    "hub_covid_df = hub_df[hub_df['Request Type'] == 'COVID-19']"
   ]
  },
  {
   "cell_type": "code",
   "execution_count": 4,
   "metadata": {},
   "outputs": [
    {
     "name": "stdout",
     "output_type": "stream",
     "text": [
      "<class 'pandas.core.frame.DataFrame'>\n",
      "Int64Index: 15923 entries, 0 to 255454\n",
      "Data columns (total 21 columns):\n",
      " #   Column                      Non-Null Count  Dtype  \n",
      "---  ------                      --------------  -----  \n",
      " 0   Request #                   15923 non-null  int64  \n",
      " 1   Status                      15923 non-null  object \n",
      " 2   Request Type                15923 non-null  object \n",
      " 3   Subrequest Type             15922 non-null  object \n",
      " 4   Additional Subrequest Type  15904 non-null  object \n",
      " 5   Date / Time Opened          15923 non-null  object \n",
      " 6   Date / Time Closed          15870 non-null  object \n",
      " 7   Request Origin              15923 non-null  object \n",
      " 8   System of Origin ID         0 non-null      object \n",
      " 9   Contact Type                65 non-null     object \n",
      " 10  Preferred Language          0 non-null      float64\n",
      " 11  State Issue                 15923 non-null  bool   \n",
      " 12  Parent Request              1 non-null      float64\n",
      " 13  Closed When Created         15923 non-null  bool   \n",
      " 14  Address                     11663 non-null  object \n",
      " 15  City                        11046 non-null  object \n",
      " 16  Council District            11078 non-null  float64\n",
      " 17  ZIP                         11111 non-null  object \n",
      " 18  Latitude                    11758 non-null  float64\n",
      " 19  Longitude                   11758 non-null  float64\n",
      " 20  Mapped Location             11758 non-null  object \n",
      "dtypes: bool(2), float64(5), int64(1), object(13)\n",
      "memory usage: 2.5+ MB\n"
     ]
    }
   ],
   "source": [
    "hub_covid_df.info()"
   ]
  },
  {
   "cell_type": "code",
   "execution_count": 5,
   "metadata": {},
   "outputs": [],
   "source": [
    "hub_covid_violations_df = hub_covid_df[hub_covid_df['Subrequest Type'] == 'COVID-19 Violations']"
   ]
  },
  {
   "cell_type": "code",
   "execution_count": 6,
   "metadata": {},
   "outputs": [
    {
     "name": "stdout",
     "output_type": "stream",
     "text": [
      "<class 'pandas.core.frame.DataFrame'>\n",
      "Int64Index: 11632 entries, 61 to 252983\n",
      "Data columns (total 21 columns):\n",
      " #   Column                      Non-Null Count  Dtype  \n",
      "---  ------                      --------------  -----  \n",
      " 0   Request #                   11632 non-null  int64  \n",
      " 1   Status                      11632 non-null  object \n",
      " 2   Request Type                11632 non-null  object \n",
      " 3   Subrequest Type             11632 non-null  object \n",
      " 4   Additional Subrequest Type  11623 non-null  object \n",
      " 5   Date / Time Opened          11632 non-null  object \n",
      " 6   Date / Time Closed          11611 non-null  object \n",
      " 7   Request Origin              11632 non-null  object \n",
      " 8   System of Origin ID         0 non-null      object \n",
      " 9   Contact Type                46 non-null     object \n",
      " 10  Preferred Language          0 non-null      float64\n",
      " 11  State Issue                 11632 non-null  bool   \n",
      " 12  Parent Request              1 non-null      float64\n",
      " 13  Closed When Created         11632 non-null  bool   \n",
      " 14  Address                     11258 non-null  object \n",
      " 15  City                        10653 non-null  object \n",
      " 16  Council District            10686 non-null  float64\n",
      " 17  ZIP                         10718 non-null  object \n",
      " 18  Latitude                    11354 non-null  float64\n",
      " 19  Longitude                   11354 non-null  float64\n",
      " 20  Mapped Location             11354 non-null  object \n",
      "dtypes: bool(2), float64(5), int64(1), object(13)\n",
      "memory usage: 1.8+ MB\n"
     ]
    }
   ],
   "source": [
    "hub_covid_violations_df.info()"
   ]
  },
  {
   "cell_type": "code",
   "execution_count": 7,
   "metadata": {},
   "outputs": [
    {
     "name": "stderr",
     "output_type": "stream",
     "text": [
      "<ipython-input-7-766ac9628eea>:2: SettingWithCopyWarning: \n",
      "A value is trying to be set on a copy of a slice from a DataFrame.\n",
      "Try using .loc[row_indexer,col_indexer] = value instead\n",
      "\n",
      "See the caveats in the documentation: https://pandas.pydata.org/pandas-docs/stable/user_guide/indexing.html#returning-a-view-versus-a-copy\n",
      "  hub_covid_violations_df[field] = pd.to_datetime(hub_covid_violations_df[field], errors='coerce')\n"
     ]
    }
   ],
   "source": [
    "for field in ['Date / Time Opened', 'Date / Time Closed']:\n",
    "    hub_covid_violations_df[field] = pd.to_datetime(hub_covid_violations_df[field], errors='coerce')"
   ]
  },
  {
   "cell_type": "code",
   "execution_count": 8,
   "metadata": {},
   "outputs": [],
   "source": [
    "for field in ['System of Origin ID', 'Preferred Language', 'Request Type', 'Subrequest Type', 'Additional Subrequest Type', 'Request Origin', 'Parent Request']:\n",
    "    del hub_covid_violations_df[field]"
   ]
  },
  {
   "cell_type": "code",
   "execution_count": 9,
   "metadata": {
    "scrolled": true
   },
   "outputs": [
    {
     "data": {
      "text/html": [
       "<div>\n",
       "<style scoped>\n",
       "    .dataframe tbody tr th:only-of-type {\n",
       "        vertical-align: middle;\n",
       "    }\n",
       "\n",
       "    .dataframe tbody tr th {\n",
       "        vertical-align: top;\n",
       "    }\n",
       "\n",
       "    .dataframe thead th {\n",
       "        text-align: right;\n",
       "    }\n",
       "</style>\n",
       "<table border=\"1\" class=\"dataframe\">\n",
       "  <thead>\n",
       "    <tr style=\"text-align: right;\">\n",
       "      <th></th>\n",
       "      <th>Request #</th>\n",
       "      <th>Status</th>\n",
       "      <th>Date / Time Opened</th>\n",
       "      <th>Date / Time Closed</th>\n",
       "      <th>Contact Type</th>\n",
       "      <th>State Issue</th>\n",
       "      <th>Closed When Created</th>\n",
       "      <th>Address</th>\n",
       "      <th>City</th>\n",
       "      <th>Council District</th>\n",
       "      <th>ZIP</th>\n",
       "      <th>Latitude</th>\n",
       "      <th>Longitude</th>\n",
       "      <th>Mapped Location</th>\n",
       "    </tr>\n",
       "  </thead>\n",
       "  <tbody>\n",
       "    <tr>\n",
       "      <th>61</th>\n",
       "      <td>346122</td>\n",
       "      <td>Closed</td>\n",
       "      <td>2020-04-15 11:33:26</td>\n",
       "      <td>2020-04-16 14:55:01</td>\n",
       "      <td>NaN</td>\n",
       "      <td>False</td>\n",
       "      <td>False</td>\n",
       "      <td>928 6th Ave S</td>\n",
       "      <td>NASHVILLE</td>\n",
       "      <td>17.0</td>\n",
       "      <td>37203</td>\n",
       "      <td>36.149040</td>\n",
       "      <td>-86.772273</td>\n",
       "      <td>(36.1490396, -86.77227289999999)</td>\n",
       "    </tr>\n",
       "    <tr>\n",
       "      <th>95</th>\n",
       "      <td>339374</td>\n",
       "      <td>Closed</td>\n",
       "      <td>2020-04-04 18:13:59</td>\n",
       "      <td>2020-04-09 13:07:22</td>\n",
       "      <td>NaN</td>\n",
       "      <td>False</td>\n",
       "      <td>False</td>\n",
       "      <td>500 Gallatin Ave</td>\n",
       "      <td>NASHVILLE</td>\n",
       "      <td>5.0</td>\n",
       "      <td>37206</td>\n",
       "      <td>36.181548</td>\n",
       "      <td>-86.749695</td>\n",
       "      <td>(36.181548, -86.749695)</td>\n",
       "    </tr>\n",
       "    <tr>\n",
       "      <th>110</th>\n",
       "      <td>343513</td>\n",
       "      <td>Closed</td>\n",
       "      <td>2020-04-10 10:40:08</td>\n",
       "      <td>2020-04-14 19:39:09</td>\n",
       "      <td>NaN</td>\n",
       "      <td>False</td>\n",
       "      <td>False</td>\n",
       "      <td>5720 Crossings Blvd</td>\n",
       "      <td>NaN</td>\n",
       "      <td>NaN</td>\n",
       "      <td>NaN</td>\n",
       "      <td>36.039608</td>\n",
       "      <td>-86.646541</td>\n",
       "      <td>(36.039608, -86.646541)</td>\n",
       "    </tr>\n",
       "    <tr>\n",
       "      <th>113</th>\n",
       "      <td>442996</td>\n",
       "      <td>Closed</td>\n",
       "      <td>2020-08-12 02:05:29</td>\n",
       "      <td>2020-08-12 16:03:35</td>\n",
       "      <td>NaN</td>\n",
       "      <td>False</td>\n",
       "      <td>False</td>\n",
       "      <td>7689 Hwy 70 S</td>\n",
       "      <td>NASHVILLE</td>\n",
       "      <td>22.0</td>\n",
       "      <td>37221</td>\n",
       "      <td>36.078933</td>\n",
       "      <td>-86.953400</td>\n",
       "      <td>(36.07893290000001, -86.9533998)</td>\n",
       "    </tr>\n",
       "    <tr>\n",
       "      <th>118</th>\n",
       "      <td>339423</td>\n",
       "      <td>Closed</td>\n",
       "      <td>2020-04-04 20:12:27</td>\n",
       "      <td>2020-04-09 14:21:09</td>\n",
       "      <td>NaN</td>\n",
       "      <td>False</td>\n",
       "      <td>False</td>\n",
       "      <td>5310 Mt View Rd</td>\n",
       "      <td>ANTIOCH</td>\n",
       "      <td>32.0</td>\n",
       "      <td>37013</td>\n",
       "      <td>36.048182</td>\n",
       "      <td>-86.648447</td>\n",
       "      <td>(36.0481819, -86.6484474)</td>\n",
       "    </tr>\n",
       "  </tbody>\n",
       "</table>\n",
       "</div>"
      ],
      "text/plain": [
       "     Request #  Status  Date / Time Opened  Date / Time Closed Contact Type  \\\n",
       "61      346122  Closed 2020-04-15 11:33:26 2020-04-16 14:55:01          NaN   \n",
       "95      339374  Closed 2020-04-04 18:13:59 2020-04-09 13:07:22          NaN   \n",
       "110     343513  Closed 2020-04-10 10:40:08 2020-04-14 19:39:09          NaN   \n",
       "113     442996  Closed 2020-08-12 02:05:29 2020-08-12 16:03:35          NaN   \n",
       "118     339423  Closed 2020-04-04 20:12:27 2020-04-09 14:21:09          NaN   \n",
       "\n",
       "     State Issue  Closed When Created              Address       City  \\\n",
       "61         False                False        928 6th Ave S  NASHVILLE   \n",
       "95         False                False     500 Gallatin Ave  NASHVILLE   \n",
       "110        False                False  5720 Crossings Blvd        NaN   \n",
       "113        False                False        7689 Hwy 70 S  NASHVILLE   \n",
       "118        False                False      5310 Mt View Rd    ANTIOCH   \n",
       "\n",
       "     Council District    ZIP   Latitude  Longitude  \\\n",
       "61               17.0  37203  36.149040 -86.772273   \n",
       "95                5.0  37206  36.181548 -86.749695   \n",
       "110               NaN    NaN  36.039608 -86.646541   \n",
       "113              22.0  37221  36.078933 -86.953400   \n",
       "118              32.0  37013  36.048182 -86.648447   \n",
       "\n",
       "                      Mapped Location  \n",
       "61   (36.1490396, -86.77227289999999)  \n",
       "95            (36.181548, -86.749695)  \n",
       "110           (36.039608, -86.646541)  \n",
       "113  (36.07893290000001, -86.9533998)  \n",
       "118         (36.0481819, -86.6484474)  "
      ]
     },
     "execution_count": 9,
     "metadata": {},
     "output_type": "execute_result"
    }
   ],
   "source": [
    "hub_covid_violations_df.head()"
   ]
  },
  {
   "cell_type": "code",
   "execution_count": 10,
   "metadata": {},
   "outputs": [],
   "source": [
    "hub_covid_violations_df = hub_covid_violations_df.drop(23443)"
   ]
  },
  {
   "cell_type": "code",
   "execution_count": 11,
   "metadata": {},
   "outputs": [],
   "source": [
    "hub_covid_violations_df.to_csv('../data/hub_covid_violations.csv', index=False)"
   ]
  },
  {
   "cell_type": "code",
   "execution_count": null,
   "metadata": {},
   "outputs": [],
   "source": []
  }
 ],
 "metadata": {
  "kernelspec": {
   "display_name": "Python 3",
   "language": "python",
   "name": "python3"
  },
  "language_info": {
   "codemirror_mode": {
    "name": "ipython",
    "version": 3
   },
   "file_extension": ".py",
   "mimetype": "text/x-python",
   "name": "python",
   "nbconvert_exporter": "python",
   "pygments_lexer": "ipython3",
   "version": "3.8.3"
  }
 },
 "nbformat": 4,
 "nbformat_minor": 4
}
